{
  "nbformat": 4,
  "nbformat_minor": 0,
  "metadata": {
    "colab": {
      "private_outputs": true,
      "provenance": [],
      "collapsed_sections": [
        "PH-0ReGfmX4f",
        "t6dVpIINYklI",
        "ijmpgYnKYklI",
        "-JiQyfWJYklI",
        "QHF8YVU7Yuh3",
        "GwzvFGzlYuh3",
        "qYpmQ266Yuh3",
        "bbFf2-_FphqN",
        "_ouA3fa0phqN",
        "Seke61FWphqN",
        "r2jJGEOYphqO",
        "b0JNsNcRphqO",
        "gCFgpxoyphqP",
        "OVtJsKN_phqQ",
        "lssrdh5qphqQ",
        "tgIPom80phqQ",
        "JMzcOPDDphqR",
        "ylSl6qgtp1ck",
        "M7G43BXep1ck",
        "YPEH6qLeZNRQ",
        "EXh0U9oCveiU",
        "22aHeOlLveiV",
        "JcMwzZxoAimU",
        "8G2x9gOozGDZ",
        "gCX9965dhzqZ",
        "gIfDvo9L0UH2"
      ],
      "include_colab_link": true
    },
    "kernelspec": {
      "name": "python3",
      "display_name": "Python 3"
    },
    "language_info": {
      "name": "python"
    }
  },
  "cells": [
    {
      "cell_type": "markdown",
      "metadata": {
        "id": "view-in-github",
        "colab_type": "text"
      },
      "source": [
        "<a href=\"https://colab.research.google.com/github/vivekgid/Hotel-Booking-Analysis-/blob/main/Capstone_EDA_Hotel_Booking_Analysis.ipynb\" target=\"_parent\"><img src=\"https://colab.research.google.com/assets/colab-badge.svg\" alt=\"Open In Colab\"/></a>"
      ]
    },
    {
      "cell_type": "markdown",
      "source": [
        "# **Project Name**    -\n",
        "\n"
      ],
      "metadata": {
        "id": "vncDsAP0Gaoa"
      }
    },
    {
      "cell_type": "markdown",
      "source": [
        "##### **Project Type**    - EDA\n",
        "##### **Contribution**    - Individual\n",
        "##### **Name              - Vivek Gidra\n",
        "##### **Team Member 2 -**\n",
        "##### **Team Member 3 -**\n",
        "##### **Team Member 4 -**"
      ],
      "metadata": {
        "id": "beRrZCGUAJYm"
      }
    },
    {
      "cell_type": "markdown",
      "source": [
        "# **Project Summary -**"
      ],
      "metadata": {
        "id": "FJNUwmbgGyua"
      }
    },
    {
      "cell_type": "markdown",
      "source": [
        "Write the summary here within 500-600 words."
      ],
      "metadata": {
        "id": "F6v_1wHtG2nS"
      }
    },
    {
      "cell_type": "markdown",
      "source": [
        "# **GitHub Link -**"
      ],
      "metadata": {
        "id": "w6K7xa23Elo4"
      }
    },
    {
      "cell_type": "markdown",
      "source": [
        "https://github.com/vivekgid/Hotel-Booking-Analysis-/blob/main/EDA_Hotel_Booking_Analysis.ipynb"
      ],
      "metadata": {
        "id": "h1o69JH3Eqqn"
      }
    },
    {
      "cell_type": "markdown",
      "source": [
        "# **Problem Statement**\n"
      ],
      "metadata": {
        "id": "yQaldy8SH6Dl"
      }
    },
    {
      "cell_type": "markdown",
      "source": [
        "**Write Problem Statement Here.**"
      ],
      "metadata": {
        "id": "DpeJGUA3kjGy"
      }
    },
    {
      "cell_type": "markdown",
      "source": [
        "#### **Define Your Business Objective?**"
      ],
      "metadata": {
        "id": "PH-0ReGfmX4f"
      }
    },
    {
      "cell_type": "markdown",
      "source": [
        "Answer Here."
      ],
      "metadata": {
        "id": "PhDvGCAqmjP1"
      }
    },
    {
      "cell_type": "markdown",
      "source": [
        "# **General Guidelines** : -  "
      ],
      "metadata": {
        "id": "mDgbUHAGgjLW"
      }
    },
    {
      "cell_type": "markdown",
      "source": [
        "1.   Well-structured, formatted, and commented code is required.\n",
        "2.   Exception Handling, Production Grade Code & Deployment Ready Code will be a plus. Those students will be awarded some additional credits.\n",
        "     \n",
        "     The additional credits will have advantages over other students during Star Student selection.\n",
        "       \n",
        "             [ Note: - Deployment Ready Code is defined as, the whole .ipynb notebook should be executable in one go\n",
        "                       without a single error logged. ]\n",
        "\n",
        "3.   Each and every logic should have proper comments.\n",
        "4. You may add as many number of charts you want. Make Sure for each and every chart the following format should be answered.\n",
        "        \n",
        "\n",
        "```\n",
        "# Chart visualization code\n",
        "```\n",
        "            \n",
        "\n",
        "*   Why did you pick the specific chart?\n",
        "*   What is/are the insight(s) found from the chart?\n",
        "* Will the gained insights help creating a positive business impact?\n",
        "Are there any insights that lead to negative growth? Justify with specific reason.\n",
        "\n",
        "5. You have to create at least 20 logical & meaningful charts having important insights.\n",
        "\n",
        "\n",
        "[ Hints : - Do the Vizualization in  a structured way while following \"UBM\" Rule.\n",
        "\n",
        "U - Univariate Analysis,\n",
        "\n",
        "B - Bivariate Analysis (Numerical - Categorical, Numerical - Numerical, Categorical - Categorical)\n",
        "\n",
        "M - Multivariate Analysis\n",
        " ]\n",
        "\n",
        "\n",
        "\n"
      ],
      "metadata": {
        "id": "ZrxVaUj-hHfC"
      }
    },
    {
      "cell_type": "markdown",
      "source": [
        "# ***Let's Begin !***"
      ],
      "metadata": {
        "id": "O_i_v8NEhb9l"
      }
    },
    {
      "cell_type": "markdown",
      "source": [
        "## ***1. Know Your Data***"
      ],
      "metadata": {
        "id": "HhfV-JJviCcP"
      }
    },
    {
      "cell_type": "markdown",
      "source": [
        "### Import Libraries"
      ],
      "metadata": {
        "id": "Y3lxredqlCYt"
      }
    },
    {
      "cell_type": "code",
      "source": [
        "# Import Libraries\n",
        "import numpy as np\n",
        "import pandas as pd\n",
        "import matplotlib.pyplot as plt\n",
        "import seaborn as sns"
      ],
      "metadata": {
        "id": "M8Vqi-pPk-HR"
      },
      "execution_count": null,
      "outputs": []
    },
    {
      "cell_type": "markdown",
      "source": [
        "### Dataset Loading"
      ],
      "metadata": {
        "id": "3RnN4peoiCZX"
      }
    },
    {
      "cell_type": "code",
      "source": [
        "# Load Dataset\n",
        "from google.colab import drive\n",
        "drive.mount('/content/drive')\n",
        "hotel_df=pd.read_csv('/content/drive/MyDrive/AlmaBetter/Capstone Project/Hotel Bookings.csv')"
      ],
      "metadata": {
        "id": "4CkvbW_SlZ_R"
      },
      "execution_count": null,
      "outputs": []
    },
    {
      "cell_type": "markdown",
      "source": [
        "### Dataset First View"
      ],
      "metadata": {
        "id": "x71ZqKXriCWQ"
      }
    },
    {
      "cell_type": "code",
      "source": [
        "# Dataset First Look\n",
        "hotel_df.head()\n",
        "\n"
      ],
      "metadata": {
        "id": "LWNFOSvLl09H"
      },
      "execution_count": null,
      "outputs": []
    },
    {
      "cell_type": "markdown",
      "source": [
        "### Dataset Rows & Columns count"
      ],
      "metadata": {
        "id": "7hBIi_osiCS2"
      }
    },
    {
      "cell_type": "code",
      "source": [
        "# Dataset Rows & Columns count\n",
        "num_rows, num_columns = hotel_df.shape\n",
        "\n",
        "# Print the count\n",
        "print(f\"Number of rows: {num_rows}\")\n",
        "print(f\"Number of columns: {num_columns}\")"
      ],
      "metadata": {
        "id": "Kllu7SJgmLij"
      },
      "execution_count": null,
      "outputs": []
    },
    {
      "cell_type": "markdown",
      "source": [
        "### Dataset Information"
      ],
      "metadata": {
        "id": "JlHwYmJAmNHm"
      }
    },
    {
      "cell_type": "code",
      "source": [
        "# Dataset Info\n",
        "# Get information about the DataFrame\n",
        "hotel_df_info = hotel_df.info()\n",
        "\n",
        "# Print the DataFrame information\n",
        "print(hotel_df_info)"
      ],
      "metadata": {
        "id": "e9hRXRi6meOf"
      },
      "execution_count": null,
      "outputs": []
    },
    {
      "cell_type": "markdown",
      "source": [
        "#### Duplicate Values"
      ],
      "metadata": {
        "id": "35m5QtbWiB9F"
      }
    },
    {
      "cell_type": "code",
      "source": [
        "# Dataset Duplicate Value Count\n",
        "# Count the duplicate values in the dataset\n",
        "duplicate_count = hotel_df.duplicated().sum()\n",
        "\n",
        "# Print the number of duplicate values\n",
        "print(f\"Number of duplicate values in the dataset: {duplicate_count}\")"
      ],
      "metadata": {
        "id": "1sLdpKYkmox0"
      },
      "execution_count": null,
      "outputs": []
    },
    {
      "cell_type": "markdown",
      "source": [
        "#### Missing Values/Null Values"
      ],
      "metadata": {
        "id": "PoPl-ycgm1ru"
      }
    },
    {
      "cell_type": "code",
      "source": [
        "# Missing Values/Null Values Count\n",
        "\n",
        "# Count the missing values in the dataset\n",
        "missing_values_count = hotel_df.isnull().sum()\n",
        "\n",
        "# Print the number of missing values for each column\n",
        "print(\"Missing values count for each column:\")\n",
        "print(missing_values_count)"
      ],
      "metadata": {
        "id": "GgHWkxvamxVg"
      },
      "execution_count": null,
      "outputs": []
    },
    {
      "cell_type": "code",
      "source": [
        "# Visualizing the missing values\n",
        "\n",
        "# heatmap of missing values\n",
        "plt.figure(figsize=(10, 6))\n",
        "sns.heatmap(hotel_df.isnull(), cmap='viridis', cbar=False, yticklabels=False)\n",
        "plt.title(\"Missing Values Heatmap\")\n",
        "plt.show()\n",
        "\n",
        "# Bar plot for missing value counts\n",
        "plt.figure(figsize=(10, 6))\n",
        "sns.barplot(x=missing_values_count.index, y=missing_values_count.values, palette='viridis')\n",
        "plt.xticks(rotation=90)\n",
        "plt.xlabel(\"Columns\")\n",
        "plt.ylabel(\"Missing Value Count\")\n",
        "plt.title(\"Missing Value Counts per Column (Bar Plot)\")\n",
        "plt.show()\n",
        "\n",
        "# Line plot for missing value counts\n",
        "plt.figure(figsize=(10, 6))\n",
        "sns.lineplot(x=missing_values_count.index, y=missing_values_count.values, marker='o', color='b')\n",
        "plt.xticks(rotation=90)\n",
        "plt.xlabel(\"Columns\")\n",
        "plt.ylabel(\"Missing Value Count\")\n",
        "plt.title(\"Missing Value Counts per Column (Line Plot)\")\n",
        "plt.grid(True)\n",
        "plt.show()"
      ],
      "metadata": {
        "id": "3q5wnI3om9sJ"
      },
      "execution_count": null,
      "outputs": []
    },
    {
      "cell_type": "markdown",
      "source": [
        "\n",
        "\n",
        "```\n",
        "# This is formatted as code\n",
        "```\n",
        "\n",
        "### What did you know about your dataset?"
      ],
      "metadata": {
        "id": "H0kj-8xxnORC"
      }
    },
    {
      "cell_type": "markdown",
      "source": [
        "From the data set containing details of Hotel Booking , I came to know about following\n",
        "1.\tThe above data set contains 119390 rows and 32 columns\n",
        "2.\tThe data contains both numerical and categorical columns , from which their data types are as:\n",
        "a) Float : 4 nos – (children, agent , company and adr)\n",
        "b) Integer – 16 nos - (is_canceled,lead_time, arrival_date_year, arrival_date_week_number,arrival_date_day_of_month,stays_in_weekend_nights,stays_in_week_nights,adults,babies,is_repeated_guest,previous_cancellations,previous_bookings_not_canceled,booking_changes,days_in_waiting_list,required_car_parking_spaces,total_of_special_requests)\n",
        "c) Objects : 16 nos – (hotel, arrival_date_month, meal, country, market_segment, distribution_channel,reserved_room_type, assigned_room_type, deposit_type, customer_type, reservation_status, reservation_status_date)\n",
        "3. There are 31,944 duplicate values in the dataset, representing approximately 26.7% of the total entries.\n",
        "4. Out of total 32 columns the missing value columns and their count is as\n",
        "a) Children – 4  or  0.0034%\n",
        "b) Country – 488 or 0.41%\n",
        "c) Agent – 16340 or 13.68%\n",
        "d) Company – 112593 or 94.30%\n"
      ],
      "metadata": {
        "id": "gfoNAAC-nUe_"
      }
    },
    {
      "cell_type": "markdown",
      "source": [
        "## ***2. Understanding Your Variables***"
      ],
      "metadata": {
        "id": "nA9Y7ga8ng1Z"
      }
    },
    {
      "cell_type": "code",
      "source": [
        "# Dataset Columns\n",
        "print(\"Dataset Columns:\")\n",
        "print(hotel_df.columns)\n",
        "\n",
        "\n"
      ],
      "metadata": {
        "id": "j7xfkqrt5Ag5"
      },
      "execution_count": null,
      "outputs": []
    },
    {
      "cell_type": "code",
      "source": [
        "# Dataset Describe\n",
        "print(\"Dataset Describe:\")\n",
        "print(hotel_df.describe())"
      ],
      "metadata": {
        "id": "DnOaZdaE5Q5t"
      },
      "execution_count": null,
      "outputs": []
    },
    {
      "cell_type": "markdown",
      "source": [
        "### Variables Description"
      ],
      "metadata": {
        "id": "PBTbrJXOngz2"
      }
    },
    {
      "cell_type": "markdown",
      "source": [
        "Answer Here"
      ],
      "metadata": {
        "id": "aJV4KIxSnxay"
      }
    },
    {
      "cell_type": "markdown",
      "source": [
        "### Check Unique Values for each variable."
      ],
      "metadata": {
        "id": "u3PMJOP6ngxN"
      }
    },
    {
      "cell_type": "code",
      "source": [
        "# Check Unique Values for each variable.\n",
        "\n",
        "print(hotel_df.apply(lambda col: col.unique()))"
      ],
      "metadata": {
        "id": "zms12Yq5n-jE"
      },
      "execution_count": null,
      "outputs": []
    },
    {
      "cell_type": "markdown",
      "source": [
        "## 3. ***Data Wrangling***"
      ],
      "metadata": {
        "id": "dauF4eBmngu3"
      }
    },
    {
      "cell_type": "markdown",
      "source": [
        "### Data Wrangling Code"
      ],
      "metadata": {
        "id": "bKJF3rekwFvQ"
      }
    },
    {
      "cell_type": "code",
      "source": [
        "# Write your code to make your dataset analysis ready.\n",
        "# 1. Firstly creating a copy of the data set into a new variable hotel_df1\n",
        "\n",
        "hotel_df1 = hotel_df.copy()\n",
        "\n",
        "# 2. Check for missing values in each column\n",
        "missing_values_count = hotel_df1.isnull().sum()\n",
        "print(\"Missing values count for each column:\")\n",
        "print(missing_values_count)\n",
        "\n",
        "# 3. Drop columns with a high percentage of missing values (i.e 80% threshold)\n",
        "missing_threshold = 0.8\n",
        "columns_to_drop = hotel_df1.columns[hotel_df1.isnull().mean() > missing_threshold]\n",
        "hotel_df1.drop(columns_to_drop, axis=1, inplace=True)\n",
        "num_rows1, num_columns1 = hotel_df1.shape\n",
        "\n",
        "# 4.  Dropping duplicate values\n",
        "hotel_df1.drop_duplicates(inplace = True)\n",
        "\n",
        "\n",
        "# 5. Fill missing values in remaining columns with appropriate strategies\n",
        "hotel_df1['agent'].fillna(0, inplace=True)  # Filling missing values in 'agent' column with 0\n",
        "\n",
        "hotel_df1['country'].fillna('Unknown', inplace=True)  # Filling missing values in 'country' column with 'Unknown'\n",
        "\n",
        "hotel_df1['children'].fillna(0, inplace=True) # Filling missing values in 'children' column with 0\n",
        "\n",
        "\n",
        "# 5. Now adding some more important columns to our data frame\n",
        "\n",
        "# Calculate the total number of guests (adults + children + babies)\n",
        "hotel_df1['total_guests'] = (hotel_df1['adults'] + hotel_df1['children'] + hotel_df1['babies'])\n",
        "\n",
        "# Calculate the total nights stayed (weekend nights + week nights)\n",
        "hotel_df1['total_nights'] = (hotel_df1['stays_in_weekend_nights'] + hotel_df1['stays_in_week_nights'])\n",
        "# Calculate the booking lead time in weeks\n",
        "\n",
        "hotel_df1['lead_time_weeks'] = (hotel_df1['lead_time'] / 7)\n",
        "\n",
        "hotel_df1['revenue'] = hotel_df1['total_nights'] * hotel_df1['adr']\n",
        "\n",
        "\n",
        "# 6. Converting columns to proper/suitable data types\n",
        "# Convert categorical columns to appropriate data types\n",
        "categorical_cols = ['hotel', 'meal', 'country', 'market_segment', 'distribution_channel', 'is_repeated_guest',\n",
        "                    'reserved_room_type', 'assigned_room_type', 'deposit_type', 'customer_type', 'reservation_status','arrival_date_month']\n",
        "\n",
        "for col in categorical_cols:\n",
        "    hotel_df1[col] = hotel_df1[col].astype('category')\n",
        "\n",
        "# Convert numerical columns to appropriate data types\n",
        "numerical_cols = ['is_canceled', 'lead_time', 'arrival_date_year', 'arrival_date_week_number', 'arrival_date_day_of_month',\n",
        "                  'stays_in_weekend_nights', 'stays_in_week_nights', 'adults', 'children', 'babies', 'previous_cancellations',\n",
        "                  'previous_bookings_not_canceled', 'booking_changes', 'agent', 'days_in_waiting_list', 'adr',\n",
        "                  'required_car_parking_spaces', 'total_of_special_requests','total_guests','total_nights','lead_time_weeks']\n",
        "\n",
        "for col in numerical_cols:\n",
        "    hotel_df1[col] = hotel_df1[col].astype('int')  # Use 'int32' if values are within the range of int32, otherwise, 'int64'\n",
        "\n",
        "\n",
        "# Convert date columns to the appropriate data type (assuming 'reservation_status_date' is a date column)\n",
        "hotel_df1['reservation_status_date'] = pd.to_datetime(hotel_df1['reservation_status_date'])\n",
        "\n",
        "# 7. Check the data types of the columns after conversion\n",
        "print(hotel_df1.dtypes)\n",
        "hotel_df1.shape"
      ],
      "metadata": {
        "id": "wk-9a2fpoLcV"
      },
      "execution_count": null,
      "outputs": []
    },
    {
      "cell_type": "code",
      "source": [
        "# Filter the DataFrame to include only canceled bookings\n",
        "canceled_bookings = hotel_df1[hotel_df1['is_canceled'] == 1]\n",
        "\n",
        "# 9. Using Groupby function to group various categorical columns and perfome certain computative task along numerical columns\n",
        "#Group by 'arrival_date_month' and calculate the average daily rate (adr) & average daily revenue for each month\n",
        "average_adr_by_month = hotel_df1.groupby('arrival_date_month')['adr'].mean().round(2)\n",
        "average_rev_by_month = hotel_df1.groupby('arrival_date_month')['revenue'].mean().round(2)\n",
        "\n",
        "# Group by 'hotel' and calculate the average lead time for each hotel type\n",
        "average_lead_time_by_hotel = hotel_df1.groupby('hotel')['lead_time'].mean().round(2)\n",
        "\n",
        "print(average_lead_time_by_hotel)\n",
        "\n",
        "# Group by 'arrival_date_month' and calculate the total number of bookings in each month\n",
        "booking_count_by_month = hotel_df1.groupby('arrival_date_month').size()\n",
        "print(booking_count_by_month)\n",
        "# Group by 'arrival_date_month' and 'hotel' and calculate the average daily rate for each month and hotel type\n",
        "average_adr_by_month_hotel = hotel_df1.groupby(['arrival_date_month', 'hotel'])['adr'].mean()\n",
        "print(average_adr_by_month_hotel)\n",
        "hotel_df1.columns"
      ],
      "metadata": {
        "id": "QxFNB8-6qcFo"
      },
      "execution_count": null,
      "outputs": []
    },
    {
      "cell_type": "markdown",
      "source": [
        "### What all manipulations have you done and insights you found?"
      ],
      "metadata": {
        "id": "MSa1f5Uengrz"
      }
    },
    {
      "cell_type": "markdown",
      "source": [
        "At the onset , i have firsly created a copy of my data set (hotel_df) and named it hotel_df1 . Then i have performed certain data wrangling tasks/codes under hotel_df1 which are as follows:\n",
        "\n",
        "1. Checking for missing values in each column: It was found that out of total 32 columns , Column Name: \"company\" was highest in missing values with 112593 values missing, followed by Column Name : \"agent\" with missing values of 16430 and then Column Name:\"country, missing values:488 and then lastly Column Name:\"Children\" with minimum missing values of 4.\n",
        "2. Then next I have dropped columns with a high percentage of missing values (i.e 80% threshold) : Only 1 column namely \"Company\" had missing value percentage exceeding 80% threshold ,therefore \"Company\" column was dropped/deleted from my data frame.\n",
        "3. Then dropping duplicate values : After dropping duplicate values from my data set , rows which were before 119390 in count was reduced to 87389 in count.\n",
        "4. Filling missing values in remaining columns with appropriate strategies: After dropping the \"company\" column there were 3 more columns containing missing values ,for columns \"agent\" & \"children\" missing values were filled with zero (0) as it was a numerical data set and the best possible value that could be filled was 0 and for the \"country\" column as it is a categorical data therefore it was filled with unknown.\n",
        "5. Adding important columns to data set: There were 3 more columns that was added , namely -  total_guests which is sum of total adults , total chidren and total babies , total_nights which is again sum of stay in weeknights and stay in weekend nights and finally lead_time_weeks which is calculating booking lead time in weeks by dividing number of days in a week (7)\n",
        "6. Converting columns to proper/suitable data types :Then i have converted all columns to proper data types namely categorical , numerical and date types.\n",
        "7. After all convering then i have printed the shape of data to check if all data has been converted in its true shape or not.\n",
        "8. To showcase filteration in my data frame then i have filtered all canceled booking from my data frame and stored in a new variable namely canceled_bookings\n",
        "9. Then finally using Groupby function to group various categorical columns and perfome certain computative task along numerical columns:  Group by'arrival_date_month' and calculate the average daily rate (adr) for each month\n",
        "Group by 'hotel' and calculate the average lead time for each hotel type\n",
        "Group by 'arrival_date_month' and calculate the total number of bookings in each month\n",
        "Group by 'arrival_date_month' and 'hotel' and calculate the average daily rate for each month and hotel type"
      ],
      "metadata": {
        "id": "LbyXE7I1olp8"
      }
    },
    {
      "cell_type": "markdown",
      "source": [
        "## ***4. Data Vizualization, Storytelling & Experimenting with charts : Understand the relationships between variables***"
      ],
      "metadata": {
        "id": "GF8Ens_Soomf"
      }
    },
    {
      "cell_type": "markdown",
      "source": [
        "#### Chart - 1"
      ],
      "metadata": {
        "id": "0wOQAZs5pc--"
      }
    },
    {
      "cell_type": "code",
      "source": [
        "# Chart - 1 visualization code\n",
        "# Univariate analysis of categorical datas using bar h plots\n",
        "\n",
        "\n",
        "columns_for_barh = ['hotel', 'meal', 'arrival_date_month', 'market_segment','customer_type', 'deposit_type', 'customer_type', 'is_canceled','reservation_status']\n",
        "\n",
        "# Set the size of the figure\n",
        "plt.figure(figsize=(10, 8))\n",
        "\n",
        "# Loop through each column and create a horizontal bar chart\n",
        "for i, column in enumerate(columns_for_barh):\n",
        "    plt.subplot(3, 3, i + 1)  # Create a subplot for each horizontal bar chart\n",
        "    hotel_df1[column].value_counts().plot(kind='barh', color='orange')\n",
        "    plt.title(f'Distribution of {column}')\n",
        "    plt.xlabel('Count')\n",
        "\n",
        "# Adjust layout and display the horizontal bar charts\n",
        "plt.tight_layout()\n",
        "plt.show()\n",
        "\n",
        "\n",
        "\n"
      ],
      "metadata": {
        "id": "7v_ESjsspbW7"
      },
      "execution_count": null,
      "outputs": []
    },
    {
      "cell_type": "markdown",
      "source": [
        "##### 1. Why did you pick the specific chart?"
      ],
      "metadata": {
        "id": "K5QZ13OEpz2H"
      }
    },
    {
      "cell_type": "markdown",
      "source": [
        "I picked the horizontal bar chart because it effectively visualizes the distribution of categorical variables, allowing easy comparison of category counts, and providing clear labels without cutting off long category names."
      ],
      "metadata": {
        "id": "XESiWehPqBRc"
      }
    },
    {
      "cell_type": "markdown",
      "source": [
        "##### 2. What is/are the insight(s) found from the chart?"
      ],
      "metadata": {
        "id": "lQ7QKXXCp7Bj"
      }
    },
    {
      "cell_type": "markdown",
      "source": [
        "Based on the bar charts i have plotted for various categorical columns, we can gather the following insights:\n",
        "\n",
        "Hotel Type: The dataset contains more bookings for City Hotels compared to Resort Hotels, with City Hotels having approximately 53,426 bookings and Resort Hotels having around 33,963 bookings.\n",
        "\n",
        "Meal Type: The most common meal type selected by customers is \"Bed & Breakfast\" (BB) with approximately 67,971 bookings, followed by \"Self Catering\" (SC) and \"Half Board\" (HB) with 9,481 and 9,085 bookings, respectively.\n",
        "\n",
        "Arrival Month: The month of August has the highest number of bookings with around 11,257, followed by July with 10,056 bookings and May with 8,354 bookings.\n",
        "\n",
        "Market Segment: The \"Online Travel Agents\" (Online TA) contribute the most to bookings, accounting for approximately 51,615 bookings, followed by \"Offline Travel Agents/ Tour Operators\" (Offline TA/TO) with 13,889 bookings.\n",
        "\n",
        "Customer Type: The majority of customers fall under the \"Transient\" category with around 71,982 bookings, followed by \"Transient-Party\" with 11,724 bookings.\n",
        "\n",
        "Deposit Type: The most common deposit type selected by customers is \"No Deposit\" with approximately 86,244 bookings, followed by \"Non-Refundable\" with 1,038 bookings.\n",
        "\n",
        "Cancellation Status: The number of bookings marked as \"Not Canceled\" (0) is significantly higher with 63,364 bookings compared to \"Canceled\" (1) with 24,025 bookings.\n",
        "\n",
        "Reservation Status: Most of the bookings have been \"Checked-Out,\" accounting for approximately 63,364 bookings, followed by \"Canceled\" with 23,011 bookings."
      ],
      "metadata": {
        "id": "C_j1G7yiqdRP"
      }
    },
    {
      "cell_type": "markdown",
      "source": [
        "##### 3. Will the gained insights help creating a positive business impact?\n",
        "Are there any insights that lead to negative growth? Justify with specific reason."
      ],
      "metadata": {
        "id": "448CDAPjqfQr"
      }
    },
    {
      "cell_type": "markdown",
      "source": [
        "\n",
        "The insights from the chart can have a positive business impact by allowing the hotel to optimize its resources, services, and marketing efforts. Understanding customer preferences, busy months, and market segments can help tailor strategies for better customer satisfaction and increased bookings. However, the high cancellation rate is a concern and needs to be addressed to prevent revenue loss and improve customer experiences. By taking action based on these insights, the hotel can drive positive growth and enhance overall business performance.\n",
        "\n",
        "\n",
        "\n",
        "\n"
      ],
      "metadata": {
        "id": "3cspy4FjqxJW"
      }
    },
    {
      "cell_type": "code",
      "source": [
        "hotel_df1['lead_time'].value_counts().head(25)"
      ],
      "metadata": {
        "id": "7z-braN1Rh2e"
      },
      "execution_count": null,
      "outputs": []
    },
    {
      "cell_type": "markdown",
      "source": [
        "#### Chart - 2"
      ],
      "metadata": {
        "id": "KSlN3yHqYklG"
      }
    },
    {
      "cell_type": "code",
      "source": [
        "# Chart - 2 visualization code\n",
        "\n",
        "\n",
        "\n",
        "columns_for_pie = ['hotel', 'meal','customer_type', 'is_canceled', 'reservation_status']\n",
        "\n",
        "# Set the size of the figure\n",
        "plt.figure(figsize=(14, 12))\n",
        "\n",
        "# Loop through each column and create a pie chart\n",
        "for i, column in enumerate(columns_for_pie):\n",
        "    plt.subplot(3, 3, i + 1)  # Create a subplot for each pie chart\n",
        "    value_counts = hotel_df1[column].value_counts()\n",
        "    plt.pie(value_counts, labels=value_counts.index, autopct='%1.1f%%', startangle=90, colors=['orange', 'lightblue', 'lightgreen', 'pink', 'yellow'], textprops={'rotation': 45})\n",
        "    plt.title(f'Distribution of {column}')\n",
        "    plt.xlabel('Count')\n",
        "\n",
        "# Adjust layout and display the pie charts\n",
        "plt.tight_layout()\n",
        "plt.show()\n",
        "\n",
        "\n",
        "\n",
        "\n",
        "\n",
        "\n",
        "\n",
        "\n",
        "\n"
      ],
      "metadata": {
        "id": "R4YgtaqtYklH"
      },
      "execution_count": null,
      "outputs": []
    },
    {
      "cell_type": "markdown",
      "source": [
        "##### 1. Why did you pick the specific chart?"
      ],
      "metadata": {
        "id": "t6dVpIINYklI"
      }
    },
    {
      "cell_type": "markdown",
      "source": [
        "Answer Here."
      ],
      "metadata": {
        "id": "5aaW0BYyYklI"
      }
    },
    {
      "cell_type": "markdown",
      "source": [
        "##### 2. What is/are the insight(s) found from the chart?"
      ],
      "metadata": {
        "id": "ijmpgYnKYklI"
      }
    },
    {
      "cell_type": "markdown",
      "source": [
        "Answer Here"
      ],
      "metadata": {
        "id": "PSx9atu2YklI"
      }
    },
    {
      "cell_type": "markdown",
      "source": [
        "##### 3. Will the gained insights help creating a positive business impact?\n",
        "Are there any insights that lead to negative growth? Justify with specific reason."
      ],
      "metadata": {
        "id": "-JiQyfWJYklI"
      }
    },
    {
      "cell_type": "markdown",
      "source": [
        "Answer Here"
      ],
      "metadata": {
        "id": "BcBbebzrYklV"
      }
    },
    {
      "cell_type": "markdown",
      "source": [
        "#### Chart - 3"
      ],
      "metadata": {
        "id": "EM7whBJCYoAo"
      }
    },
    {
      "cell_type": "code",
      "source": [
        "# Chart - 3 visualization code\n",
        "# \"Lead Time vs. Booking Cancelations,\" using kernel density plot (KDE)\n",
        "plt.figure(figsize=(10, 6))\n",
        "g = sns.FacetGrid(hotel_df1, hue='is_canceled', height=6, aspect=2)\n",
        "g.map(sns.kdeplot, 'lead_time', shade=True)\n",
        "g.add_legend(title='Is Canceled')\n",
        "plt.title('Lead Time vs. Booking Cancelations', fontsize=16)\n",
        "plt.xlabel('Lead Time', fontsize=14)\n",
        "plt.ylabel('Density', fontsize=14)\n",
        "plt.show()\n",
        "\n",
        "# median lead time and canceled bookings count per month using line plot\n",
        "ordered_month = ['January', 'February', 'March', 'April', 'May', 'June', 'July', 'August', 'September', 'October', 'November', 'December']\n",
        "\n",
        "cancel_lead_time = hotel_df1[hotel_df1['is_canceled'] == 1].groupby('arrival_date_month')['lead_time'].median().reindex(ordered_month)\n",
        "cancel_count = hotel_df1[hotel_df1['is_canceled'] == 1].groupby('arrival_date_month').size().reindex(ordered_month)\n",
        "\n",
        "fig, ax = plt.subplots(figsize=(10, 5))\n",
        "ax = cancel_lead_time.plot(kind='line', marker='o', color='blue')  # Set the color for median lead time\n",
        "ax.set_ylabel('Median Lead Time')\n",
        "ax.legend(['Median Lead Time'], loc='upper left')\n",
        "ax = cancel_count.plot(kind='line', marker='v', color='green')  # Set the color for cancellations count\n",
        "ax.set_ylabel('Canceled bookings count')\n",
        "ax.legend(['Cancellations count'], loc='upper right')\n",
        "plt.title('Median Lead Time and Canceled Bookings count per month')\n",
        "plt.show()\n"
      ],
      "metadata": {
        "id": "t6GMdE67YoAp"
      },
      "execution_count": null,
      "outputs": []
    },
    {
      "cell_type": "code",
      "source": [
        "\n",
        "\n",
        "\n",
        "# Grouping the data by 'arrival_date_month' and calculating the median lead time for each month\n",
        "median_lead_time_by_month = hotel_df1.groupby('arrival_date_month')['lead_time'].median()\n",
        "\n",
        "# Printing the median lead time for each month\n",
        "print(\"Median Lead Time by Month:\")\n",
        "print(median_lead_time_by_month)\n",
        "\n",
        "# Finding the month with the highest median lead time\n",
        "highest_median_lead_time_month = median_lead_time_by_month.idxmax()\n",
        "\n",
        "# Printing the result\n",
        "print(f\"\\nThe month with the highest median lead time is: {highest_median_lead_time_month}\")\n",
        "\n"
      ],
      "metadata": {
        "id": "sDE42t6Jme8L"
      },
      "execution_count": null,
      "outputs": []
    },
    {
      "cell_type": "markdown",
      "source": [
        "##### 1. Why did you pick the specific chart?"
      ],
      "metadata": {
        "id": "fge-S5ZAYoAp"
      }
    },
    {
      "cell_type": "markdown",
      "source": [
        "I chose the kernel density plot with hue for booking cancellations because it effectively visualizes the distribution of lead time for both canceled and non-canceled bookings. The hue feature allows easy comparison between the two categories, making it convenient to identify any patterns or trends related to booking cancellations based on lead time.\n",
        "\n",
        "I selected the line plot to show the median lead time and the count of canceled bookings per month. This allows for a clear comparison of the median lead time and the number of cancellations for each month, helping to identify any potential correlations or trends between lead time and booking cancellations over time."
      ],
      "metadata": {
        "id": "5dBItgRVYoAp"
      }
    },
    {
      "cell_type": "markdown",
      "source": [
        "##### 2. What is/are the insight(s) found from the chart?"
      ],
      "metadata": {
        "id": "85gYPyotYoAp"
      }
    },
    {
      "cell_type": "markdown",
      "source": [
        "Insights from Kernel Density Plot is:\n",
        "1. Most cancellations occur between 25-50 days of the booking date.\n",
        "2. There is a long tail to the distribution, which indicates that there are a small number of cancellations with very long lead times.\n",
        "3. The distribution is not symmetrical, which suggests that there are more cancellations with shorter lead times than with longer lead times.\n",
        "\n",
        "Insights from line plot for median lead time and canceled bookings count per month:\n",
        "1. There is a clear upward trend in the canceled bookings count from January to August. This suggests that there are least cancelation in the month of January and then it rises and peaks (highest) in August and then again starts falling.\n",
        "2. The median lead time is lowest in January and then starts rising and peaks in July and then starts declining.\n",
        "3. The correlation between the median lead time and the canceled bookings count is not perfect. This means that there are other factors that also influence the canceled bookings count, such as the type of travel or the price of the booking."
      ],
      "metadata": {
        "id": "4jstXR6OYoAp"
      }
    },
    {
      "cell_type": "markdown",
      "source": [
        "##### 3. Will the gained insights help creating a positive business impact?\n",
        "Are there any insights that lead to negative growth? Justify with specific reason."
      ],
      "metadata": {
        "id": "RoGjAbkUYoAp"
      }
    },
    {
      "cell_type": "markdown",
      "source": [
        "These insights can help businesses to create a positive business impact by:\n",
        "\n",
        "1. Identifying factors that are associated with cancellations and developing strategies to reduce cancellations.\n",
        "2. Identifying the most common lead times for bookings and optimizing marketing campaigns and sales efforts to target potential customers who are most likely to book.\n",
        "3. Targeting marketing campaigns to the earlier months of the year.\n",
        "4. Optimizing pricing for bookings that are made close to the travel date.\n",
        "\n",
        "However, there are also some insights that could lead to negative growth, such as\n",
        "1. The insight that there is a long tail to the distribution of cancellations. This could be a problem if these cancellations are for large bookings, as they could represent a significant loss of revenue.\n",
        "2. The insight that there is a clear upward trend in the canceled bookings count from January to August. This could lead to a decrease in revenue for businesses if they are not able to reduce the number of cancellations."
      ],
      "metadata": {
        "id": "zfJ8IqMcYoAp"
      }
    },
    {
      "cell_type": "markdown",
      "source": [
        "#### Chart - 4"
      ],
      "metadata": {
        "id": "4Of9eVA-YrdM"
      }
    },
    {
      "cell_type": "code",
      "source": [
        "# Chart - 4 visualization code\n",
        "\n",
        "#  2x2 grid of subplots\n",
        "fig, axs = plt.subplots(2, 2, figsize=(18, 12))\n",
        "\n",
        "bar_colors = ['green', 'orange', 'red']\n",
        "\n",
        "# First visualization\n",
        "axs[0, 0].bar(average_lead_time_by_hotel.index, average_lead_time_by_hotel.values)\n",
        "axs[0, 0].set_xlabel('Hotel')\n",
        "axs[0, 0].set_ylabel('Average Lead Time')\n",
        "axs[0, 0].set_title('Average Lead Time by Hotel')\n",
        "\n",
        "# Add percentage values\n",
        "for i, v in enumerate(average_lead_time_by_hotel.values):\n",
        "    axs[0, 0].text(i, v, f\"{v:.2f}%\", ha='center', va='bottom', fontsize=12, fontweight='bold')\n",
        "\n",
        "# Second visualization\n",
        "months = ['Jan', 'Feb', 'Mar', 'Apr', 'May', 'Jun', 'Jul', 'Aug', 'Sep', 'Oct', 'Nov', 'Dec']\n",
        "axs[0, 1].bar(months, booking_count_by_month.values, color=bar_colors[0])\n",
        "axs[0, 1].set_xticks(range(len(booking_count_by_month)))\n",
        "axs[0, 1].set_xticklabels(months, rotation=45)\n",
        "axs[0, 1].set_xlabel('Month')\n",
        "axs[0, 1].set_ylabel('Booking Count')\n",
        "axs[0, 1].set_title('Booking Count by Month')\n",
        "\n",
        "# Add percentage values\n",
        "total_bookings = sum(booking_count_by_month.values)\n",
        "for i, v in enumerate(booking_count_by_month.values):\n",
        "    axs[0, 1].text(i, v, f\"{(v / total_bookings * 100):.2f}%\", ha='center', va='bottom', fontsize=10, fontweight='bold')\n",
        "\n",
        "# Third visualization\n",
        "sns.barplot(x=months, y=average_rev_by_month.values, ax=axs[1, 0])\n",
        "axs[1, 0].set_xticks(range(len(average_rev_by_month)))\n",
        "axs[1, 0].set_xticklabels(months, rotation=45)\n",
        "axs[1, 0].set_xlabel('Month')\n",
        "axs[1, 0].set_ylabel('Average Revenue')\n",
        "axs[1, 0].set_title('Average Revenue by Month')\n",
        "\n",
        "# Add percentage values\n",
        "total_revenue = sum(average_rev_by_month.values)\n",
        "for i, v in enumerate(average_rev_by_month.values):\n",
        "    axs[1, 0].text(i, v, f\"{(v / total_revenue * 100):.2f}%\", ha='center', va='bottom', fontsize=10, fontweight='bold')\n",
        "\n",
        "\n",
        "# Forth visualization\n",
        "sns.barplot(x=months, y=average_adr_by_month.values, ax=axs[1, 1])\n",
        "axs[1, 1].set_xticks(range(len(average_adr_by_month)))\n",
        "axs[1, 1].set_xticklabels(months, rotation=45)\n",
        "axs[1, 1].set_xlabel('Month')\n",
        "axs[1, 1].set_ylabel('Average ADR')\n",
        "axs[1, 1].set_title('Average ADR by Month')\n",
        "\n",
        "\n",
        "# # Add percentage values\n",
        "\n",
        "total_adr = sum(average_adr_by_month.values)\n",
        "for i, v in enumerate(average_adr_by_month.values):\n",
        "    axs[1, 1].text(i, v, f\"{(v / total_adr * 100):.2f}%\", ha='center', va='bottom', fontsize=10, fontweight='bold')\n",
        "\n",
        "# # Adjust the layout and display the subplots\n",
        "plt.tight_layout()\n",
        "plt.show()\n"
      ],
      "metadata": {
        "id": "irlUoxc8YrdO"
      },
      "execution_count": null,
      "outputs": []
    },
    {
      "cell_type": "markdown",
      "source": [
        "##### 1. Why did you pick the specific chart?"
      ],
      "metadata": {
        "id": "iky9q4vBYrdO"
      }
    },
    {
      "cell_type": "markdown",
      "source": [
        "1. Average Lead Time by Hotel:\n",
        "A bar chart was chosen for easy comparison of the average lead time between city hotels and resort hotels.\n",
        "\n",
        "2. Booking Count by Month:\n",
        "A bar chart was chosen to show the number of bookings for each month, making it easy to identify booking patterns.\n",
        "\n",
        "3. Average Revenue by Month:\n",
        "A bar chart using Seaborn's barplot was selected for a visually appealing presentation of the average revenue for each month.\n",
        "\n",
        "4. Average ADR by Month:\n",
        "A bar chart using Seaborn's barplot was chosen to display the average ADR for each month, maintaining visual consistency."
      ],
      "metadata": {
        "id": "aJRCwT6DYrdO"
      }
    },
    {
      "cell_type": "markdown",
      "source": [
        "##### 2. What is/are the insight(s) found from the chart?"
      ],
      "metadata": {
        "id": "F6T5p64dYrdO"
      }
    },
    {
      "cell_type": "markdown",
      "source": [
        "Here are the insights I can provide based on above charts:\n",
        "1. Average Lead Time vs. Hotel Chart:\n",
        "The average lead time for city hotels is 77.6 days, while the average lead time for resort hotels is 83.38 days. This suggests that people who book city hotels are more likely to book their travel close to the travel date, while people who book resort hotels are more likely to book their travel well in advance.\n",
        "\n",
        "2. Booking Count by Month Chart:\n",
        "It is very clear from the charts that February month has the highest booking count, followed by June, and then September. Conversely, May month has the least booking count, followed by October, and then March.\n",
        "\n",
        "3. Average Revenue & Average ADR by Month:\n",
        "Since February has the highest booking count, it also generates the highest revenue and ADR (Average Daily Rate). Conversely, the month of May sees the lowest revenue and ADR."
      ],
      "metadata": {
        "id": "Xx8WAJvtYrdO"
      }
    },
    {
      "cell_type": "markdown",
      "source": [
        "##### 3. Will the gained insights help creating a positive business impact?\n",
        "Are there any insights that lead to negative growth? Justify with specific reason."
      ],
      "metadata": {
        "id": "y-Ehk30pYrdP"
      }
    },
    {
      "cell_type": "markdown",
      "source": [
        "The insights i have gained from the analysis can indeed help create a positive business impact. Understanding the average lead time for city and resort hotels can allow the hotel management to tailor their marketing and pricing strategies accordingly. For city hotels, offering last-minute deals or flexible booking options could attract more guests. For resort hotels, planning in advance for peak seasons and offering early-bird promotions could boost bookings and revenue.\n",
        "\n",
        "Similarly, analyzing the booking count by month helps in preparing for peak seasons and managing resources efficiently. The insights enable the hotel to allocate marketing efforts and promotions during quieter months to drive bookings and occupancy.\n",
        "\n",
        "However, one insight that may lead to negative growth is the lower revenue and ADR during certain months, such as May. During this period, the hotel could face challenges in achieving desired occupancy and revenue. To counter this, the hotel should analyze the reasons for low demand during these months and strategize accordingly. Offering unique experiences, targeting specific customer segments, or hosting events during low-demand months could help attract more guests and mitigate the negative impact.\n",
        "\n",
        "\n",
        "\n",
        "\n",
        "\n",
        "\n"
      ],
      "metadata": {
        "id": "jLNxxz7MYrdP"
      }
    },
    {
      "cell_type": "markdown",
      "source": [
        "#### Chart - 5"
      ],
      "metadata": {
        "id": "bamQiAODYuh1"
      }
    },
    {
      "cell_type": "code",
      "source": [
        "# Chart - 5 visualization code\n",
        "\n",
        "# BIVARIATE ANALYSIS : ADR ALONG WITH APPROPRIATE CATEGORICAL COLUMNS\n",
        "\n",
        "# List of appropriate categorical columns for bivariate analysis with 'adr'\n",
        "categorical_cols_for_bivariate = ['hotel', 'is_canceled', 'arrival_date_year', 'arrival_date_month',\n",
        "                                  'meal', 'market_segment', 'distribution_channel',\n",
        "                                  'is_repeated_guest', 'reserved_room_type', 'assigned_room_type',\n",
        "                                  'deposit_type', 'customer_type', 'reservation_status']\n",
        "\n",
        "# Calculate the number of rows and columns for subplots based on the number of categorical columns\n",
        "num_cols = 3\n",
        "num_rows = (len(categorical_cols_for_bivariate) + num_cols - 1) // num_cols\n",
        "\n",
        "# Create subplots for multiple box plots of 'adr' vs. each categorical column\n",
        "fig, axes = plt.subplots(num_rows, num_cols, figsize=(18, 5*num_rows))\n",
        "axes = [ax for axes_row in axes for ax in axes_row]\n",
        "\n",
        "# Bivariate analysis using bar plots for each categorical column\n",
        "for i, col in enumerate(categorical_cols_for_bivariate):\n",
        "    sns.barplot(x=col, y='adr', data=hotel_df1, ax=axes[i])\n",
        "    axes[i].set_title(f\"Bivariate Analysis: {col} vs. Average Daily Rate (ADR)\", fontsize=12)\n",
        "    axes[i].set_xlabel(col, fontsize=10)\n",
        "    axes[i].set_ylabel('Average Daily Rate (ADR)', fontsize=10)\n",
        "    axes[i].tick_params(axis='x', rotation=45)\n",
        "\n",
        "# Hide any empty subplots\n",
        "for j in range(len(categorical_cols_for_bivariate), num_rows * num_cols):\n",
        "    fig.delaxes(axes[j])\n",
        "\n",
        "plt.tight_layout()\n",
        "plt.show()\n"
      ],
      "metadata": {
        "id": "TIJwrbroYuh3"
      },
      "execution_count": null,
      "outputs": []
    },
    {
      "cell_type": "code",
      "source": [
        "categorical_cols_for_bivariate = ['hotel', 'is_canceled', 'arrival_date_year', 'arrival_date_month',\n",
        "                                  'meal', 'market_segment', 'distribution_channel',\n",
        "                                  'is_repeated_guest', 'reserved_room_type', 'assigned_room_type',\n",
        "                                  'deposit_type', 'customer_type', 'reservation_status']\n",
        "\n",
        "for i in categorical_cols_for_bivariate:\n",
        "    average_adr_by_cancel = hotel_df1.groupby(i)['adr'].mean()\n",
        "    print(average_adr_by_cancel)"
      ],
      "metadata": {
        "id": "rTMmXdoRH1wf"
      },
      "execution_count": null,
      "outputs": []
    },
    {
      "cell_type": "markdown",
      "source": [
        "##### 1. Why did you pick the specific chart?"
      ],
      "metadata": {
        "id": "QHF8YVU7Yuh3"
      }
    },
    {
      "cell_type": "markdown",
      "source": [
        "I selected bar plots for bivariate analysis as they are effective in illustrating the relationship between categorical variables and the Average Daily Rate (ADR). This visualization enables a clear comparison of how different categories within each column impact the ADR, aiding in understanding pricing patterns and potential trends. The use of subplots for each categorical column allows for a systematic examination of these relationships, enhancing insights."
      ],
      "metadata": {
        "id": "dcxuIMRPYuh3"
      }
    },
    {
      "cell_type": "markdown",
      "source": [
        "##### 2. What is/are the insight(s) found from the chart?"
      ],
      "metadata": {
        "id": "GwzvFGzlYuh3"
      }
    },
    {
      "cell_type": "markdown",
      "source": [
        "From the bivariate analysis using bar plots, several insights can be derived:\n",
        "\n",
        "1. Hotel Type Impact: The ADR of City Hotels tends to be higher compared to Resort Hotels. This suggests that City Hotels may generally have higher pricing.\n",
        "\n",
        "2. Cancellation Impact: Bookings that were canceled (is_canceled=1) exhibit a noticeably higher ADR compared to non-canceled bookings (is_canceled=0). This might indicate that higher-priced bookings are more likely to be canceled.\n",
        "\n",
        "3. Yearly Variation: ADR follows a trend of increase from 2015 to 2017. This could imply a potential increase in pricing over the years.\n",
        "\n",
        "4. Seasonal Influence: ADR varies significantly across different months. August and July show higher ADR, indicating a peak tourist season, while December, February, and January have relatively lower ADR, suggesting off-peak periods.\n",
        "\n",
        "5. Meal Type Impact: Full Board (FB) bookings show the highest ADR, followed by Half Board (HB) and Bed & Breakfast (BB). This indicates that more inclusive meal plans tend to have higher ADR.\n",
        "\n",
        "6. Market Segment Influence: Aviation, Direct, and Online TA market segments have higher ADR compared to other segments. This could suggest that bookings from these segments contribute more to revenue.\n",
        "\n",
        "7. Repetition Impact: Repeated guests (is_repeated_guest=1) have a significantly lower ADR compared to first-time guests. This implies potential discounts or preferential pricing for returning customers.\n",
        "\n",
        "8. Room Type Impact: Different reserved and assigned room types impact ADR, suggesting varying pricing based on room category.\n",
        "\n",
        "9. Deposit Type Influence: Non-Refundable bookings exhibit a lower ADR compared to No Deposit and Refundable bookings. This could reflect differing pricing strategies based on booking flexibility.\n",
        "\n",
        "10. Customer Type Variation: Transient bookings have the highest ADR, while Group bookings have the lowest. This aligns with the assumption that business travelers (Transient) might be willing to pay more compared to Group travelers.\n",
        "\n",
        "11. Reservation Status: Canceled reservations have a higher ADR compared to Check-Out and No-Show reservations. This could indicate that canceled bookings are often for higher-priced stays."
      ],
      "metadata": {
        "id": "uyqkiB8YYuh3"
      }
    },
    {
      "cell_type": "code",
      "source": [],
      "metadata": {
        "id": "tAoFVrV8SpEy"
      },
      "execution_count": null,
      "outputs": []
    },
    {
      "cell_type": "markdown",
      "source": [
        "##### 3. Will the gained insights help creating a positive business impact?\n",
        "Are there any insights that lead to negative growth? Justify with specific reason."
      ],
      "metadata": {
        "id": "qYpmQ266Yuh3"
      }
    },
    {
      "cell_type": "markdown",
      "source": [
        "Positive Business Impacts:\n",
        "\n",
        "1. Pricing Strategy Refinement: Understanding the impact of different factors on ADR allows the hotel management to refine their pricing strategy. For example, offering more attractive rates during off-peak months or to first-time guests might encourage more bookings.\n",
        "\n",
        "2. Customer Segmentation: By identifying the customer segments that contribute the most revenue (e.g., Direct bookings, Transient bookings), the hotel can tailor marketing efforts and services to attract and retain these valuable segments.\n",
        "\n",
        "3. Cancellation Management: Recognizing that higher-priced bookings are more likely to be canceled (insight 2) can help in setting cancellation policies that balance customer flexibility and revenue protection.\n",
        "\n",
        "4. Seasonal Adjustments: Adapting room rates based on seasonal demand fluctuations (insight 4) can maximize revenue during peak periods while attracting bookings during off-peak times.\n",
        "\n",
        "Negative Growth Impacts:\n",
        "\n",
        "1. Impact of Cancellations: The insight that canceled bookings have higher ADR (insight 2) might suggest that the hotel is losing potential revenue due to cancellations. This could prompt the need for stricter cancellation policies or deposit requirements.\n",
        "\n",
        "2. Room Type Influence: The variation in ADR based on reserved and assigned room types (insight 8) might indicate inconsistency in pricing strategy. This could lead to customer dissatisfaction and negative reviews if not managed well.\n",
        "\n",
        "3. Meal Plan Dynamics: While offering higher ADR for more inclusive meal plans (insight 5) can generate more revenue, it might also discourage budget-conscious customers from booking.\n",
        "\n",
        "4. ADR Variation by Market Segment: Some market segments contribute more to revenue due to higher ADR (insight 6). Focusing solely on these segments might result in underestimating the potential of other segments, leading to missed opportunities.\n",
        "\n",
        "5. Impact of Deposit Types: The lower ADR for Non-Refundable bookings (insight 9) could deter some potential customers who prefer flexibility. Striking the right balance between pricing and flexibility is crucial.\n",
        "\n",
        "In conclusion, while most insights have the potential for positive impacts, certain aspects like cancellations, inconsistent room pricing, and potential customer deterrence due to pricing strategies need careful management to avoid negative growth impacts. The insights offer valuable guidance, but their implementation and impact will depend on the hotel's strategic decisions and execution."
      ],
      "metadata": {
        "id": "_WtzZ_hCYuh4"
      }
    },
    {
      "cell_type": "markdown",
      "source": [
        "#### Chart - 6"
      ],
      "metadata": {
        "id": "OH-pJp9IphqM"
      }
    },
    {
      "cell_type": "code",
      "source": [
        "# Chart - 6 visualization code\n",
        "\n",
        "\n",
        "# Get the top 10 countries by revenue\n",
        "top_10_countries = hotel_df1.groupby('country')['revenue'].sum().nlargest(10).index\n",
        "\n",
        "# Filter the data to include only the top 10 countries\n",
        "filtered_data = hotel_df1[hotel_df1['country'].isin(top_10_countries)]\n",
        "\n",
        "# Create the box plot\n",
        "plt.figure(figsize=(12, 8))\n",
        "sns.boxplot(x='country', y='revenue', hue='arrival_date_year', data=filtered_data,\n",
        "            palette='Set1', showfliers=False, order=top_10_countries, dodge=True)\n",
        "plt.xlabel('Country', fontsize=14)\n",
        "plt.ylabel('Revenue', fontsize=14)\n",
        "plt.title('Box Plot of Revenue by Top 10 Countries and Year', fontsize=16)\n",
        "plt.xticks(fontsize=12, rotation=45)\n",
        "plt.yticks(fontsize=12)\n",
        "plt.legend(title='Year', title_fontsize=12, fontsize=12)\n",
        "plt.show()\n",
        "\n",
        "# Get the top 10 countries by number of guests\n",
        "bookings_countrywise = hotel_df1['country'].value_counts().reset_index().rename(columns={'index':'Country', 'country':'Guests in total'})\n",
        "top_10_countries = bookings_countrywise.nlargest(10, 'Guests in total')\n",
        "top_10_countries_p = hotel_df1['country'].value_counts(normalize = True).sort_values(ascending=False)[:10]\n",
        "\n",
        "# Create a bar plot\n",
        "plt.figure(figsize=(12, 8))\n",
        "plt.bar(top_10_countries['Country'], top_10_countries['Guests in total'])\n",
        "plt.xticks(rotation=30)\n",
        "plt.xlabel(\"Country\")\n",
        "plt.ylabel(\"Guests in total\")\n",
        "\n",
        "# Add the percentage to the top of each bar\n",
        "for i, p in enumerate(plt.gca().patches):\n",
        "    width = p.get_width()\n",
        "    height = p.get_height()\n",
        "    x, y = p.get_xy()\n",
        "\n",
        "    plt.text(x + width / 2, y + height * 1.01, str(round(top_10_countries_p[i] * 100, 2)) + '%', ha='center')\n",
        "\n",
        "# Add a title\n",
        "plt.title(\"Top 10 countries by number of guests\")\n",
        "plt.show()\n",
        "\n",
        "\n"
      ],
      "metadata": {
        "id": "kuRf4wtuphqN"
      },
      "execution_count": null,
      "outputs": []
    },
    {
      "cell_type": "markdown",
      "source": [
        "##### 1. Why did you pick the specific chart?"
      ],
      "metadata": {
        "id": "bbFf2-_FphqN"
      }
    },
    {
      "cell_type": "markdown",
      "source": [
        "Answer Here."
      ],
      "metadata": {
        "id": "loh7H2nzphqN"
      }
    },
    {
      "cell_type": "markdown",
      "source": [
        "##### 2. What is/are the insight(s) found from the chart?"
      ],
      "metadata": {
        "id": "_ouA3fa0phqN"
      }
    },
    {
      "cell_type": "markdown",
      "source": [
        "Answer Here"
      ],
      "metadata": {
        "id": "VECbqPI7phqN"
      }
    },
    {
      "cell_type": "markdown",
      "source": [
        "##### 3. Will the gained insights help creating a positive business impact?\n",
        "Are there any insights that lead to negative growth? Justify with specific reason."
      ],
      "metadata": {
        "id": "Seke61FWphqN"
      }
    },
    {
      "cell_type": "markdown",
      "source": [
        "Answer Here"
      ],
      "metadata": {
        "id": "DW4_bGpfphqN"
      }
    },
    {
      "cell_type": "markdown",
      "source": [
        "#### Chart - 7"
      ],
      "metadata": {
        "id": "PIIx-8_IphqN"
      }
    },
    {
      "cell_type": "code",
      "source": [
        "# Chart - 7 visualization code\n",
        "\n",
        "# NUMBER OF BOOKINGS EACH YEAR WITH HOTEL TYPE\n",
        "\n",
        "data_2015 = hotel_df1[hotel_df1[\"arrival_date_year\"] == 2015]\n",
        "data_2016 = hotel_df1[hotel_df1[\"arrival_date_year\"] == 2016]\n",
        "data_2017 = hotel_df1[hotel_df1[\"arrival_date_year\"] == 2017]\n",
        "ordered_month = ['January', 'February', 'March', 'April', 'May', 'June', 'July', 'August', 'September', 'October', 'November', 'December']\n",
        "\n",
        "fig, ax = plt.subplots(3, 1, sharex=True, figsize=(12, 16))\n",
        "data = [data_2015, data_2016, data_2017]\n",
        "years = [2015, 2016, 2017]\n",
        "\n",
        "for i, year in enumerate(data):\n",
        "    ax[i].set_title(f'{years[i]}', fontsize=16)\n",
        "    sns.countplot(data=year, y=\"arrival_date_month\", hue=\"hotel\", order=ordered_month, ax=ax[i])\n",
        "    ax[i].set_ylabel('Month', fontsize=16)\n",
        "    ax[i].set_xlabel('Number of bookings', fontsize=16)\n",
        "    plt.title(f'{years[i]}', fontsize=18)\n",
        "\n",
        "plt.suptitle(\"Number of bookings in each year:\", fontsize=17, y=.88)\n",
        "plt.show()"
      ],
      "metadata": {
        "id": "lqAIGUfyphqO"
      },
      "execution_count": null,
      "outputs": []
    },
    {
      "cell_type": "markdown",
      "source": [
        "##### 1. Why did you pick the specific chart?"
      ],
      "metadata": {
        "id": "t27r6nlMphqO"
      }
    },
    {
      "cell_type": "markdown",
      "source": [
        "Answer Here."
      ],
      "metadata": {
        "id": "iv6ro40sphqO"
      }
    },
    {
      "cell_type": "markdown",
      "source": [
        "##### 2. What is/are the insight(s) found from the chart?"
      ],
      "metadata": {
        "id": "r2jJGEOYphqO"
      }
    },
    {
      "cell_type": "markdown",
      "source": [
        "Answer Here"
      ],
      "metadata": {
        "id": "Po6ZPi4hphqO"
      }
    },
    {
      "cell_type": "markdown",
      "source": [
        "##### 3. Will the gained insights help creating a positive business impact?\n",
        "Are there any insights that lead to negative growth? Justify with specific reason."
      ],
      "metadata": {
        "id": "b0JNsNcRphqO"
      }
    },
    {
      "cell_type": "markdown",
      "source": [
        "Answer Here"
      ],
      "metadata": {
        "id": "xvSq8iUTphqO"
      }
    },
    {
      "cell_type": "markdown",
      "source": [
        "#### Chart - 8"
      ],
      "metadata": {
        "id": "BZR9WyysphqO"
      }
    },
    {
      "cell_type": "code",
      "source": [
        "# Chart - 8 visualization code\n",
        "\n",
        "\n",
        "\n",
        "\n",
        "plt.figure(figsize=(12, 8))\n",
        "sns.scatterplot(x='customer_type', y='revenue', hue='deposit_type', size='total_nights', data=hotel_df1)\n",
        "plt.xlabel('Customer Type')\n",
        "plt.ylabel('Revenue')\n",
        "plt.title('Revenue by Customer Type and Deposit Type with Total Nights Size')\n",
        "plt.legend(title='Deposit Type', loc='upper right')\n",
        "plt.show()\n",
        "\n",
        "\n",
        "\n",
        "\n",
        "\n",
        "\n",
        "\n",
        "\n",
        "\n",
        "\n"
      ],
      "metadata": {
        "id": "TdPTWpAVphqO"
      },
      "execution_count": null,
      "outputs": []
    },
    {
      "cell_type": "markdown",
      "source": [
        "##### 1. Why did you pick the specific chart?"
      ],
      "metadata": {
        "id": "jj7wYXLtphqO"
      }
    },
    {
      "cell_type": "markdown",
      "source": [
        "I chose the scatter plot with multiple variables (customer_type, revenue, deposit_type, and total_nights) because it allows me to visualize the relationship between categorical and numerical variables simultaneously, like for each customer type , revenue generated can be compared considering the desposit type and total nights spent."
      ],
      "metadata": {
        "id": "Ob8u6rCTphqO"
      }
    },
    {
      "cell_type": "markdown",
      "source": [
        "##### 2. What is/are the insight(s) found from the chart?"
      ],
      "metadata": {
        "id": "eZrbJ2SmphqO"
      }
    },
    {
      "cell_type": "markdown",
      "source": [
        "#\n",
        " The scatterplot with multiple variables (customer_type, revenue, deposit_type, and total_nights) provides several insights as below:\n",
        "\n",
        "1. Customer Type and Revenue Relation: The scatterplot shows the relationship between customer types (e.g., Contract, Group, Transient, Transient-Party) and the corresponding revenue. It is evident that different customer types generate varying levels of revenue. For instance, 'Transient' and 'Transient-Party' customer types tend to generate higher revenue compared to 'Contract' and 'Group' customer types.\n",
        "2. Deposit Type Impact: Each point in the scatterplot is color-coded based on the deposit type (No Deposit, Non Refund, Refundable). It can be observed that for all customer types, the majority of bookings are made under the 'No Deposit' deposit type. This suggests that most customers prefer the flexibility of not making a deposit.\n",
        "3. Total Nights and Size Variation: The size of the points is determined by the total number of nights spent (total_nights). Larger points indicate longer stays. The scatterplot reveals that there is no clear linear relationship between total nights and revenue. While some longer stays result in higher revenue, there are instances where shorter stays generate comparable or even higher revenue."
      ],
      "metadata": {
        "id": "mZtgC_hjphqO"
      }
    },
    {
      "cell_type": "markdown",
      "source": [],
      "metadata": {
        "id": "z0yrIKWGDEy1"
      }
    },
    {
      "cell_type": "markdown",
      "source": [
        "##### 3. Will the gained insights help creating a positive business impact?\n",
        "Are there any insights that lead to negative growth? Justify with specific reason."
      ],
      "metadata": {
        "id": "rFu4xreNphqO"
      }
    },
    {
      "cell_type": "markdown",
      "source": [
        "Yes, the gained insights from the scatterplot visualization can potentially lead to positive business impact and inform decision-making. However, there are also insights that might raise concerns for negative growth.\n",
        "\n",
        "Positive Impacts :\n",
        "\n",
        "1. The insights suggest that 'Transient' and 'Transient-Party' customer types generate higher revenue. The hotel can focus its marketing efforts and loyalty programs on attracting and retaining these customer segments, offering personalized services and incentives to enhance their experience.\n",
        "2. Understanding the relationship between customer types, deposit types, and revenue allows the hotel to optimize pricing strategies. The hotel can set differentiated prices based on customer preferences, deposit choices, and the value they bring to the business.\n",
        "\n",
        "Negative Impacts:\n",
        "\n",
        "1. The visualization reveals that certain customer types, such as 'Contract' and 'Group,' generate comparatively lower revenue. While focusing on higher-revenue segments is important, the hotel must ensure that efforts to attract these segments do not neglect other customer types, maintaining a diverse customer base.\n",
        "2. Although bookings with 'No Deposit' deposit types dominate, there is a risk of negative growth if the hotel heavily relies on this deposit type. If economic conditions or customer preferences change, the hotel might face challenges related to cancellations or revenue fluctuations.\n",
        "3. The lack of a clear linear relationship between total nights and revenue suggests that longer stays do not always guarantee higher revenue. This might lead to uncertainty in revenue projections, making financial planning and resource allocation more challenging.\n",
        "\n"
      ],
      "metadata": {
        "id": "ey_0qi68phqO"
      }
    },
    {
      "cell_type": "markdown",
      "source": [
        "#### Chart - 9"
      ],
      "metadata": {
        "id": "YJ55k-q6phqO"
      }
    },
    {
      "cell_type": "code",
      "source": [
        "# Chart - 9 visualization code\n",
        "#'adr' vs. 'revenue': To explore how the average daily rate relates to the revenue generated.\n",
        "# plt.figure(figsize=(8, 6))\n",
        "# sns.scatterplot(x='adr', y='revenue', data=hotel_df1)\n",
        "# plt.title(\"Average Daily Rate vs. Revenue\", fontsize=16)\n",
        "# plt.xlabel(\"Average Daily Rate\", fontsize=14)\n",
        "# plt.ylabel(\"Revenue\", fontsize=14)\n",
        "# plt.show()\n"
      ],
      "metadata": {
        "id": "B2aS4O1ophqO"
      },
      "execution_count": null,
      "outputs": []
    },
    {
      "cell_type": "markdown",
      "source": [
        "##### 1. Why did you pick the specific chart?"
      ],
      "metadata": {
        "id": "gCFgpxoyphqP"
      }
    },
    {
      "cell_type": "markdown",
      "source": [
        "Answer Here."
      ],
      "metadata": {
        "id": "TVxDimi2phqP"
      }
    },
    {
      "cell_type": "markdown",
      "source": [
        "##### 2. What is/are the insight(s) found from the chart?"
      ],
      "metadata": {
        "id": "OVtJsKN_phqQ"
      }
    },
    {
      "cell_type": "markdown",
      "source": [
        "Answer Here"
      ],
      "metadata": {
        "id": "ngGi97qjphqQ"
      }
    },
    {
      "cell_type": "markdown",
      "source": [
        "##### 3. Will the gained insights help creating a positive business impact?\n",
        "Are there any insights that lead to negative growth? Justify with specific reason."
      ],
      "metadata": {
        "id": "lssrdh5qphqQ"
      }
    },
    {
      "cell_type": "markdown",
      "source": [
        "Answer Here"
      ],
      "metadata": {
        "id": "tBpY5ekJphqQ"
      }
    },
    {
      "cell_type": "markdown",
      "source": [
        "#### Chart - 10\n"
      ],
      "metadata": {
        "id": "U2RJ9gkRphqQ"
      }
    },
    {
      "cell_type": "code",
      "source": [
        "# Chart - 10 visualization code\n",
        "#'total_nights' vs. 'revenue': To understand how the total number of nights stayed relates to the revenue generated.\n",
        "plt.figure(figsize=(8, 6))\n",
        "sns.scatterplot(x='total_nights', y='revenue', data=hotel_df1, hue='hotel')\n",
        "plt.title(\"Total Nights vs. Revenue\", fontsize=16)\n",
        "plt.xlabel(\"Total Nights\", fontsize=14)\n",
        "plt.ylabel(\"Revenue\", fontsize=14)\n",
        "plt.show()\n",
        "\n"
      ],
      "metadata": {
        "id": "JGPS26-aF_1d"
      },
      "execution_count": null,
      "outputs": []
    },
    {
      "cell_type": "markdown",
      "source": [],
      "metadata": {
        "id": "5If_4FWmnBZV"
      }
    },
    {
      "cell_type": "markdown",
      "source": [
        "##### 1. Why did you pick the specific chart?"
      ],
      "metadata": {
        "id": "1M8mcRywphqQ"
      }
    },
    {
      "cell_type": "markdown",
      "source": [
        "I chose the \"Total Nights vs. Revenue\" scatter plot with hue based on hotel type because it effectively illustrates the correlation between length of stay and revenue. The scatter plot's points help identify any patterns or trends in how longer stays relate to higher revenue, while the color distinction between City and Resort Hotels allows for a direct comparison."
      ],
      "metadata": {
        "id": "8agQvks0phqQ"
      }
    },
    {
      "cell_type": "code",
      "source": [],
      "metadata": {
        "id": "mvAQo3DumSGo"
      },
      "execution_count": null,
      "outputs": []
    },
    {
      "cell_type": "markdown",
      "source": [
        "##### 2. What is/are the insight(s) found from the chart?"
      ],
      "metadata": {
        "id": "tgIPom80phqQ"
      }
    },
    {
      "cell_type": "markdown",
      "source": [
        "1. **Distinct Revenue Patterns for Hotel Types**: The scatterplot illustrates a clear distinction in revenue patterns between City Hotels and Resort Hotels based on total nights. For similar total nights, City Hotels tend to generate higher revenue compared to Resort Hotels.\n",
        "\n",
        "2. **Higher Revenue for City Hotels**: Across various total nights, City Hotels generally exhibit higher revenue compared to Resort Hotels. This could be due to factors such as urban location, business travelers, and different pricing strategies.\n",
        "\n",
        "3. **Clustering of Resort Hotel Data**: The scatterplot shows that the data points for Resort Hotels tend to cluster in specific regions of total nights and revenue. This suggests the presence of common booking patterns or packages that attract guests to these specific ranges.\n",
        "\n",
        "4. **Outliers Impacting Revenue**: Both hotel types have outliers with significantly higher revenue for relatively low total nights. These could represent luxury suites, premium packages, or exclusive services that contribute to the increased revenue.\n",
        "\n",
        "5. **Varied Total Nights**: Guests' total nights vary widely within each hotel type. Resort Hotels have a larger spread of total nights, indicating more diverse stay patterns compared to City Hotels.\n",
        "\n",
        "6. **Business Strategy Implications**: The visualization can help guide revenue optimization strategies. For example, City Hotels might focus on offering premium packages for shorter stays, while Resort Hotels could explore strategies to extend guests' average stay duration.\n",
        "\n",
        "7. **Competitive Pricing Considerations**: The scatterplot can aid in analyzing competitive pricing strategies between the two hotel types. Understanding how each type attracts revenue at different total nights can influence pricing decisions."
      ],
      "metadata": {
        "id": "Qp13pnNzphqQ"
      }
    },
    {
      "cell_type": "markdown",
      "source": [
        "##### 3. Will the gained insights help creating a positive business impact?\n",
        "Are there any insights that lead to negative growth? Justify with specific reason."
      ],
      "metadata": {
        "id": "JMzcOPDDphqR"
      }
    },
    {
      "cell_type": "markdown",
      "source": [
        "The gained insights from the \"Total Nights vs. Revenue\" visualization can indeed help create a positive business impact for both City Hotels and Resort Hotels:\n",
        "\n",
        "1. **Revenue Optimization**: Understanding the correlation between total nights and revenue allows hotels to optimize pricing strategies. By offering attractive pricing for different lengths of stay, hotels can attract a broader range of guests and potentially increase overall revenue.\n",
        "\n",
        "2. **Targeted Marketing**: Tailoring marketing efforts to different guest preferences and lengths of stay can lead to more effective campaigns. For instance, City Hotels can highlight short-stay packages for business travelers, while Resort Hotels can promote longer-stay deals for leisure guests.\n",
        "\n",
        "3. **Service Customization**: With insights into guests' preferences based on their total nights, hotels can customize services and amenities. This enhances guest satisfaction, potentially leading to repeat bookings and positive word-of-mouth recommendations.\n",
        "\n",
        "While the insights primarily point towards positive impacts, there are some considerations to avoid potential negative growth:\n",
        "\n",
        "1. **Balancing Pricing**: While optimizing pricing for different lengths of stay is beneficial, hotels need to ensure that the pricing structure remains competitive and aligns with guest expectations. Overpricing for shorter stays or underpricing for longer stays could result in lost opportunities.\n",
        "\n",
        "2. **Guest Experience**: Length of stay can impact guest experience. While encouraging longer stays, hotels must ensure that the experience remains consistent and satisfying throughout the stay duration. Negative experiences could lead to reduced repeat bookings.\n",
        "\n",
        "3. **Impact on Resources**: Longer stays might lead to increased consumption of resources and services, impacting operational costs. Hotels should carefully analyze the balance between revenue generated and resource utilization."
      ],
      "metadata": {
        "id": "R4Ka1PC2phqR"
      }
    },
    {
      "cell_type": "markdown",
      "source": [
        "#### Chart - 11"
      ],
      "metadata": {
        "id": "x-EpHcCOp1ci"
      }
    },
    {
      "cell_type": "code",
      "source": [
        "# Chart - 11 visualization code\n",
        "\n",
        "plt.figure(figsize=(10, 6))\n",
        "sns.barplot(x='meal', y='revenue', hue='hotel', data=hotel_df1, ci=None, palette='muted', estimator=sum)\n",
        "plt.title(\"Total Revenue by Meal Type and Hotel Type\", fontsize=14)\n",
        "plt.xlabel(\"Meal Type\", fontsize=14)\n",
        "plt.ylabel(\"Total Revenue\", fontsize=14)\n",
        "plt.legend(title='Hotel Type', title_fontsize=12, loc='upper left')\n",
        "plt.show()\n",
        "\n",
        "plt.figure(figsize=(10, 6))\n",
        "sns.barplot(x='market_segment', y='revenue', hue='hotel', data=hotel_df1, ci=None, palette='muted', estimator=sum)\n",
        "plt.title(\"Total Revenue by Market Segment and Hotel Type\", fontsize=14)\n",
        "plt.xlabel(\"Market Segment\", fontsize=14)\n",
        "plt.ylabel(\"Total Revenue\", fontsize=14)\n",
        "plt.legend(title='Hotel Type', title_fontsize=12, loc='upper left')\n",
        "plt.xticks(rotation=45, ha='right')\n",
        "plt.tight_layout()\n",
        "plt.show()\n",
        "\n",
        "# # Group the data by 'arrival_date_year' and 'hotel' and calculate the total revenue for each group\n",
        "revenue_by_year_hotel = hotel_df1.groupby(['arrival_date_year', 'hotel'])['revenue'].sum().reset_index()\n",
        "\n",
        "# Create a bar plot\n",
        "plt.figure(figsize=(10, 6))\n",
        "sns.barplot(x='arrival_date_year', y='revenue', hue='hotel', data=revenue_by_year_hotel)\n",
        "plt.xlabel(\"Year\")\n",
        "plt.ylabel(\"Total Revenue\")\n",
        "plt.title(\"Total Revenue by Year and Hotel Type\")\n",
        "plt.legend(title='Hotel', title_fontsize=14)\n",
        "plt.show()\n",
        "\n"
      ],
      "metadata": {
        "id": "mAQTIvtqp1cj"
      },
      "execution_count": null,
      "outputs": []
    },
    {
      "cell_type": "code",
      "source": [
        "# Group by meal type and hotel, then calculate the sum of revenue\n",
        "meal_hotel_revenue = hotel_df1.groupby(['meal', 'hotel'])['revenue'].sum().reset_index()\n",
        "\n",
        "print(meal_hotel_revenue)\n",
        "\n",
        "# Group by meal type and hotel, then calculate the sum of revenue\n",
        "segment_revenue = hotel_df1.groupby(['market_segment', 'hotel'])['revenue'].sum().reset_index()\n",
        "\n",
        "print(segment_revenue)\n",
        "\n",
        "year_arr = hotel_df1.groupby(['arrival_date_year', 'hotel'])['revenue'].sum().reset_index()\n",
        "\n",
        "print(year_arr)"
      ],
      "metadata": {
        "id": "o_0IXvDveblT"
      },
      "execution_count": null,
      "outputs": []
    },
    {
      "cell_type": "markdown",
      "source": [
        "##### 1. Why did you pick the specific chart?"
      ],
      "metadata": {
        "id": "X_VqEhTip1ck"
      }
    },
    {
      "cell_type": "markdown",
      "source": [
        " I chose the specific chart, which is a series of bar plots, to visually represent the relationship between different categorical variables (meal type, market segment, and arrival year) and their corresponding total revenue for each combination of categories. This type of chart is suitable for comparing revenue distributions across multiple categories simultaneously, allowing for easy identification of patterns and trends. It helps in quickly understanding which categories contribute the most to revenue and how they vary across different dimensions (meal type, market segment, and year), aiding in data-driven decision-making for business strategies."
      ],
      "metadata": {
        "id": "-vsMzt_np1ck"
      }
    },
    {
      "cell_type": "markdown",
      "source": [
        "##### 2. What is/are the insight(s) found from the chart?"
      ],
      "metadata": {
        "id": "8zGJKyg5p1ck"
      }
    },
    {
      "cell_type": "markdown",
      "source": [
        "Insights from the visualization:\n",
        "1. Total Revenue by Meal Type and Hotel Type:\n",
        "\n",
        "a) The highest total revenue is generated by the meal type \"BB\" (Bed & Breakfast) for both City Hotel and Resort Hotel.\n",
        "b) Resort Hotel generates significantly higher revenue from meal type \"BB\" compared to City Hotel.\n",
        "c) \"HB\" (Half Board) generates substantial revenue for both hotel types, with Resort Hotel having a slightly higher share.\n",
        "d) \"FB\" (Full Board) generates substantial revenue for Resort Hotel but minimal revenue for City Hotel.\n",
        "e) \"SC\" (No meal package) generates significant revenue for City Hotel but minimal revenue for Resort Hotel.\n",
        "f) The \"Undefined\" meal type generates revenue only for Resort Hotel.\n",
        "\n",
        "2. Total Revenue by Market Segment and Hotel Type:\n",
        "\n",
        "a) The \"Online TA\" (Online Travel Agents) market segment contributes the highest total revenue for both City Hotel and Resort Hotel.\n",
        "b) \"Offline TA/TO\" (Offline Travel Agents/Tour Operators) and \"Direct\" segments generate considerable revenue for both hotel types.\n",
        "c) The \"Groups\" market segment generates significant revenue, especially for Resort Hotel.\n",
        "d) \"Corporate\" and \"Complementary\" market segments contribute to revenue, with Corporate segment generating higher revenue for City Hotel.\n",
        "e)The \"Aviation\" market segment generates limited revenue for City Hotel.\n",
        "\n",
        "3. Total Revenue by Year and Hotel Type:\n",
        "\n",
        "a) City Hotel and Resort Hotel both experience fluctuating revenue across the three years (2015, 2016, and 2017).\n",
        "b) City Hotel has the highest revenue in 2016, followed by 2017 and 2015.\n",
        "c) Resort Hotel has the highest revenue in 2016, followed by 2017 and 2015.\n"
      ],
      "metadata": {
        "id": "ZYdMsrqVp1ck"
      }
    },
    {
      "cell_type": "markdown",
      "source": [
        "##### 3. Will the gained insights help creating a positive business impact?\n",
        "Are there any insights that lead to negative growth? Justify with specific reason."
      ],
      "metadata": {
        "id": "PVzmfK_Ep1ck"
      }
    },
    {
      "cell_type": "markdown",
      "source": [
        "These insights can help hotels draft their marketing and pricing strategies based on the most profitable meal types, market segments, and years. For example, promoting and optimizing revenue-generating meal types and market segments can lead to increased bookings and revenue.\n",
        "Identifying revenue trends over the years allows hotels to plan for peak periods, offer attractive packages, and allocate resources effectively."
      ],
      "metadata": {
        "id": "druuKYZpp1ck"
      }
    },
    {
      "cell_type": "markdown",
      "source": [
        "#### Chart - 12"
      ],
      "metadata": {
        "id": "n3dbpmDWp1ck"
      }
    },
    {
      "cell_type": "code",
      "source": [
        "# Chart - 12 visualization code\n",
        " #DAYS IN WAITING LIST BY MARGET SEGMENT\n",
        "# Define a color palette\n",
        "custom_palette = sns.color_palette(\"Set2\", n_colors=len(hotel_df1['market_segment'].unique()))\n",
        "\n",
        "# Create a strip plot with the defined color palette\n",
        "plt.figure(figsize=(12, 6))\n",
        "sns.stripplot(x='market_segment', y='days_in_waiting_list', data=hotel_df1, palette=custom_palette)\n",
        "plt.xlabel(\"Market Segment\")\n",
        "plt.ylabel(\"Days in Waiting List\")\n",
        "plt.title(\"Days in Waiting List by Market Segment\")\n",
        "plt.xticks(rotation=45)\n",
        "plt.show()\n",
        "sum_days_waiting_list = hotel_df1.groupby('market_segment')['days_in_waiting_list'].sum()\n",
        "\n",
        "print(sum_days_waiting_list)\n"
      ],
      "metadata": {
        "id": "bwevp1tKp1ck"
      },
      "execution_count": null,
      "outputs": []
    },
    {
      "cell_type": "markdown",
      "source": [
        "##### 1. Why did you pick the specific chart?"
      ],
      "metadata": {
        "id": "ylSl6qgtp1ck"
      }
    },
    {
      "cell_type": "markdown",
      "source": [
        "\n",
        "I chose the strip plot for \"Days in Waiting List by Market Segment\" because it effectively displays the distribution of waiting times across various market segments. This plot shows individual data points, allowing us to observe patterns, outliers, and concentrations within each segment. It's compact, yet provides a clear comparison of waiting times between segments, aiding in identifying potential areas for improvement."
      ],
      "metadata": {
        "id": "m2xqNkiQp1ck"
      }
    },
    {
      "cell_type": "markdown",
      "source": [
        "##### 2. What is/are the insight(s) found from the chart?"
      ],
      "metadata": {
        "id": "ZWILFDl5p1ck"
      }
    },
    {
      "cell_type": "markdown",
      "source": [
        "Some insights that can be drawn from the strip plot chart are:\n",
        "\n",
        "1. The market segment with the most days in waiting lists is for group of people, such as a family or a company. This market segment is more likely to have a longer lead time, as they need to coordinate the travel plans of multiple people\n",
        "2. The market segment with the least days in waiting lists is Direct. This suggests that people who book directly with the hotel are more likely to book their travel well in advance.\n",
        "3. There is a clear difference in the number of days in waiting lists for different market segments. This suggests that there are some factors that are influencing the number of days in waiting lists for different market segments.\n"
      ],
      "metadata": {
        "id": "x-lUsV2mp1ck"
      }
    },
    {
      "cell_type": "markdown",
      "source": [
        "##### 3. Will the gained insights help creating a positive business impact?\n",
        "Are there any insights that lead to negative growth? Justify with specific reason."
      ],
      "metadata": {
        "id": "M7G43BXep1ck"
      }
    },
    {
      "cell_type": "markdown",
      "source": [
        "Positive Business Impact:\n",
        "\n",
        "1. Improved Customer Experience: By addressing prolonged waiting times, the hotel can enhance the overall customer experience. Reduced waiting times lead to higher customer satisfaction and positive reviews, which can attract more bookings and repeat business.\n",
        "\n",
        "2. Enhanced Reputation: Addressing waiting times can lead to positive word-of-mouth marketing and online reviews. A good reputation for efficient service can drive more customers to choose the hotel over competitors.\n",
        "\n",
        "3. Higher Booking Conversion: Customers are more likely to complete their bookings if they don't experience extended waiting times. This can result in increased booking conversion rates and higher revenue.\n",
        "\n",
        "Negative Growth Prevention:\n",
        "\n",
        "1. Potential Negative Impact on Bookings: Failure to address prolonged waiting times, especially in the \"Groups\" and \"Offline TA/TO\" segments, could lead to negative growth. Unsatisfied customers might choose other hotels with shorter waiting times, resulting in reduced bookings.\n",
        "\n",
        "2. Loss of Repeat Business: Repeat business and customer loyalty could be negatively affected if waiting times are consistently high. Guests are less likely to return to a hotel if they previously had to endure lengthy waiting periods."
      ],
      "metadata": {
        "id": "5wwDJXsLp1cl"
      }
    },
    {
      "cell_type": "markdown",
      "source": [
        "#### Chart - 13"
      ],
      "metadata": {
        "id": "Ag9LCva-p1cl"
      }
    },
    {
      "cell_type": "code",
      "source": [
        "# Chart - 13 visualization code\n",
        "# Create the box plots\n",
        "plt.figure(figsize=(10, 8))\n",
        "sns.boxplot(data=hotel_df1, x='deposit_type', y='total_nights', hue=\"hotel\")\n",
        "plt.title(\"Box Plot for Deposit Type Vs Total Nights\", fontsize=14)\n",
        "plt.xlabel(\"Deposit Type\", fontsize=12)\n",
        "plt.ylabel(\"Total Night Spent\", fontsize=12)\n",
        "plt.xticks(fontsize=12, rotation=45)\n",
        "plt.yticks(fontsize=12)\n",
        "plt.show()"
      ],
      "metadata": {
        "id": "EUfxeq9-p1cl"
      },
      "execution_count": null,
      "outputs": []
    },
    {
      "cell_type": "code",
      "source": [
        "\n",
        "\n",
        "# Group by deposit type and hotel type, then calculate the sum of total nights\n",
        "sum_total_nights = hotel_df1.groupby(['deposit_type', 'hotel'])['total_nights'].sum()\n",
        "\n",
        "print(sum_total_nights)\n",
        "\n",
        "\n",
        "\n",
        "# Calculate the IQR for a specific column (e.g., 'total_nights')\n",
        "Q1 = hotel_df1['total_nights'].quantile(0.25)\n",
        "Q3 = hotel_df1['total_nights'].quantile(0.75)\n",
        "IQR = Q3 - Q1\n",
        "\n",
        "# Define the lower and upper bounds for outliers\n",
        "lower_bound = Q1 - 1.5 * IQR\n",
        "upper_bound = Q3 + 1.5 * IQR\n",
        "\n",
        "# Create a new column 'is_outlier' to indicate if a data point is an outlier\n",
        "hotel_df1['is_outlier'] = ((hotel_df1['total_nights'] < lower_bound) | (hotel_df1['total_nights'] > upper_bound))\n",
        "\n",
        "# Group the data by 'deposit_type' and 'hotel' and calculate the count of outliers for each group\n",
        "outliers_count_by_deposit_hotel = hotel_df1.groupby(['deposit_type', 'hotel'])['is_outlier'].sum()\n",
        "\n",
        "print(\"Count of outliers for each combination of deposit type and hotel type:\")\n",
        "print(outliers_count_by_deposit_hotel)\n",
        "\n"
      ],
      "metadata": {
        "id": "TqVwUgtlRwcx"
      },
      "execution_count": null,
      "outputs": []
    },
    {
      "cell_type": "markdown",
      "source": [
        "##### 1. Why did you pick the specific chart?"
      ],
      "metadata": {
        "id": "E6MkPsBcp1cl"
      }
    },
    {
      "cell_type": "markdown",
      "source": [
        "I have used box plot visualization which compares the distribution of total nights spent across different deposit types and hotel types. For each deposit type and hotel type combination, the box plot represents the interquartile range (IQR) of total nights spent.The median of total nights spent is indicated by the horizontal line within each box.Outliers, which are data points that fall outside the whiskers of the box plot, are plotted individually as points."
      ],
      "metadata": {
        "id": "V22bRsFWp1cl"
      }
    },
    {
      "cell_type": "markdown",
      "source": [
        "##### 2. What is/are the insight(s) found from the chart?"
      ],
      "metadata": {
        "id": "2cELzS2fp1cl"
      }
    },
    {
      "cell_type": "markdown",
      "source": [
        "*Answer* The following insights were found from the visualization:\n",
        "1. The majority of bookings fall within the interquartile range (IQR) for all deposit and hotel type combinations.\n",
        "2. The \"No Deposit\" deposit type has the highest median total nights spent for both City Hotel and Resort Hotel, suggesting that guests with this deposit type tend to stay longer on average.\n",
        "3. The \"Non Refund\" deposit type has lower total nights spent compared to \"No Deposit\" and \"Refundable\" deposit types.\n",
        "4. The \"Refundable\" deposit type shows higher variability in total nights spent for Resort Hotels compared to City Hotels.\n",
        "5. The presence of outliers indicates instances where guests stayed significantly longer than the typical range for a specific deposit and hotel type."
      ],
      "metadata": {
        "id": "ozQPc2_Ip1cl"
      }
    },
    {
      "cell_type": "markdown",
      "source": [
        "##### 3. Will the gained insights help creating a positive business impact?\n",
        "Are there any insights that lead to negative growth? Justify with specific reason."
      ],
      "metadata": {
        "id": "3MPXvC8up1cl"
      }
    },
    {
      "cell_type": "markdown",
      "source": [
        "These are some of the positive business impacts which can be created with the help of these insights:\n",
        "1.  The visualization highlights that guests with the \"No Deposit\" deposit type tend to stay longer on average, especially in Resort Hotels. This insight could lead to targeted marketing strategies to attract more guests with the \"No Deposit\" option, potentially resulting in higher revenue due to extended stays.\n",
        "2.  Understanding the distribution of total nights spent helps in better pricing and inventory management. Hotel management can adjust pricing and room availability based on peak and off-peak periods, leading to improved revenue and resource allocation.\n",
        "3.  Addressing outliers, which represent unusually long stays, can lead to enhanced guest experiences. Hotels could provide special offers, services, or amenities for guests with extended stays, resulting in positive word-of-mouth and customer loyalty.\n",
        "\n",
        "Some negative impacts:\n",
        "\n",
        "1. The presence of outliers, especially in the \"No Deposit\" category for Resort Hotels, might indicate potential lost revenue opportunities. These outliers could result from data anomalies or unmanaged extended stays, leading to underutilized rooms during high-demand periods.\n",
        "2. If the outliers represent true extended stays, it could strain hotel resources, including housekeeping, maintenance, and staff availability. This could lead to increased operational costs and potential negative guest experiences if service quality is compromised."
      ],
      "metadata": {
        "id": "GL8l1tdLp1cl"
      }
    },
    {
      "cell_type": "markdown",
      "source": [
        "#### Chart - 14 - Correlation Heatmap"
      ],
      "metadata": {
        "id": "NC_X3p0fY2L0"
      }
    },
    {
      "cell_type": "code",
      "source": [
        "# Correlation Heatmap visualization code"
      ],
      "metadata": {
        "id": "xyC9zolEZNRQ"
      },
      "execution_count": null,
      "outputs": []
    },
    {
      "cell_type": "markdown",
      "source": [
        "##### 1. Why did you pick the specific chart?"
      ],
      "metadata": {
        "id": "UV0SzAkaZNRQ"
      }
    },
    {
      "cell_type": "markdown",
      "source": [
        "Answer Here."
      ],
      "metadata": {
        "id": "DVPuT8LYZNRQ"
      }
    },
    {
      "cell_type": "markdown",
      "source": [
        "##### 2. What is/are the insight(s) found from the chart?"
      ],
      "metadata": {
        "id": "YPEH6qLeZNRQ"
      }
    },
    {
      "cell_type": "markdown",
      "source": [
        "Answer Here"
      ],
      "metadata": {
        "id": "bfSqtnDqZNRR"
      }
    },
    {
      "cell_type": "markdown",
      "source": [
        "#### Chart - 15 - Pair Plot"
      ],
      "metadata": {
        "id": "q29F0dvdveiT"
      }
    },
    {
      "cell_type": "code",
      "source": [
        "# Pair Plot visualization code\n",
        "\n",
        "numerical_columns = ['lead_time', 'adr', 'required_car_parking_spaces', 'total_of_special_requests', 'total_guests', 'total_nights', 'revenue']\n",
        "\n",
        "sns.pairplot(hotel_df1[numerical_columns])\n",
        "plt.show()"
      ],
      "metadata": {
        "id": "o58-TEIhveiU"
      },
      "execution_count": null,
      "outputs": []
    },
    {
      "cell_type": "markdown",
      "source": [
        "##### 1. Why did you pick the specific chart?"
      ],
      "metadata": {
        "id": "EXh0U9oCveiU"
      }
    },
    {
      "cell_type": "markdown",
      "source": [
        "Answer Here."
      ],
      "metadata": {
        "id": "eMmPjTByveiU"
      }
    },
    {
      "cell_type": "markdown",
      "source": [
        "##### 2. What is/are the insight(s) found from the chart?"
      ],
      "metadata": {
        "id": "22aHeOlLveiV"
      }
    },
    {
      "cell_type": "markdown",
      "source": [
        "Answer Here"
      ],
      "metadata": {
        "id": "uPQ8RGwHveiV"
      }
    },
    {
      "cell_type": "markdown",
      "source": [
        "## **5. Solution to Business Objective**"
      ],
      "metadata": {
        "id": "JcMwzZxoAimU"
      }
    },
    {
      "cell_type": "markdown",
      "source": [
        "#### What do you suggest the client to achieve Business Objective ?\n",
        "Explain Briefly."
      ],
      "metadata": {
        "id": "8G2x9gOozGDZ"
      }
    },
    {
      "cell_type": "markdown",
      "source": [
        "Answer Here."
      ],
      "metadata": {
        "id": "pASKb0qOza21"
      }
    },
    {
      "cell_type": "markdown",
      "source": [
        "# **Conclusion**"
      ],
      "metadata": {
        "id": "gCX9965dhzqZ"
      }
    },
    {
      "cell_type": "markdown",
      "source": [
        "Write the conclusion here."
      ],
      "metadata": {
        "id": "Fjb1IsQkh3yE"
      }
    },
    {
      "cell_type": "markdown",
      "source": [
        "### ***Hurrah! You have successfully completed your EDA Capstone Project !!!***"
      ],
      "metadata": {
        "id": "gIfDvo9L0UH2"
      }
    }
  ]
}